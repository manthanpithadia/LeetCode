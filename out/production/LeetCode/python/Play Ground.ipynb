{
 "cells": [
  {
   "cell_type": "code",
   "execution_count": 2,
   "id": "24c86392-bc65-49fb-ac3d-9d335e98d395",
   "metadata": {},
   "outputs": [],
   "source": [
    "nums1 = [1,2,2,1]\n",
    "nums2 = [2,2]"
   ]
  },
  {
   "cell_type": "code",
   "execution_count": 5,
   "id": "4e2701d2-c630-4d69-b130-e986df802bd2",
   "metadata": {},
   "outputs": [],
   "source": [
    "def intersection(self, nums1, nums2):\n",
    "    print( nums1 - nums2 )"
   ]
  },
  {
   "cell_type": "code",
   "execution_count": null,
   "id": "6f9cac10-fb92-4978-8d0c-ebc2158b7ec9",
   "metadata": {},
   "outputs": [],
   "source": []
  }
 ],
 "metadata": {
  "kernelspec": {
   "display_name": "Python 3 (ipykernel)",
   "language": "python",
   "name": "python3"
  },
  "language_info": {
   "codemirror_mode": {
    "name": "ipython",
    "version": 3
   },
   "file_extension": ".py",
   "mimetype": "text/x-python",
   "name": "python",
   "nbconvert_exporter": "python",
   "pygments_lexer": "ipython3",
   "version": "3.10.11"
  }
 },
 "nbformat": 4,
 "nbformat_minor": 5
}
